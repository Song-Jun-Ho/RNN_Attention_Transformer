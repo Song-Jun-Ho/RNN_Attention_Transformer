{
  "cells": [
    {
      "cell_type": "markdown",
      "metadata": {
        "id": "view-in-github",
        "colab_type": "text"
      },
      "source": [
        "<a href=\"https://colab.research.google.com/github/Song-Jun-Ho/RNN_Attention_Transformer/blob/main/hw4_translation.ipynb\" target=\"_parent\"><img src=\"https://colab.research.google.com/assets/colab-badge.svg\" alt=\"Open In Colab\"/></a>"
      ]
    },
    {
      "cell_type": "markdown",
      "metadata": {
        "id": "EDxtMC2g66gQ"
      },
      "source": [
        "# Setup"
      ]
    },
    {
      "cell_type": "code",
      "execution_count": null,
      "metadata": {
        "id": "vj2CXov7JJqq",
        "colab": {
          "base_uri": "https://localhost:8080/"
        },
        "outputId": "9a595a74-8d75-4b52-cf6a-43882017c63a"
      },
      "outputs": [
        {
          "output_type": "stream",
          "name": "stdout",
          "text": [
            "Mounted at /content/drive/\n"
          ]
        }
      ],
      "source": [
        "from google.colab import drive\n",
        "drive.mount('/content/drive/')"
      ]
    },
    {
      "cell_type": "code",
      "execution_count": null,
      "metadata": {
        "id": "DcKp4bZiJwut",
        "colab": {
          "base_uri": "https://localhost:8080/"
        },
        "outputId": "a0bfb524-7622-434f-f62f-ee4bada83561"
      },
      "outputs": [
        {
          "output_type": "stream",
          "name": "stdout",
          "text": [
            "/content/drive/MyDrive/HW4\n"
          ]
        }
      ],
      "source": [
        "%cd '/content/drive/MyDrive/HW4'"
      ]
    },
    {
      "cell_type": "code",
      "execution_count": null,
      "metadata": {
        "id": "UHKo6dP6eEO6"
      },
      "outputs": [],
      "source": [
        "import math\n",
        "import random\n",
        "from pathlib import Path\n",
        "import sys\n",
        "sys.path.insert(0,str(Path().absolute().joinpath(\"data\")))\n",
        "\n",
        "from data import prepareData\n",
        "\n",
        "import torch\n",
        "import torch.nn as nn\n",
        "import torch.nn.functional as F\n",
        "from torch.nn import TransformerEncoder, TransformerEncoderLayer, TransformerDecoder, TransformerDecoderLayer\n",
        "from torch.utils.data import Dataset, DataLoader, random_split\n",
        "\n",
        "import pandas as pd\n",
        "import numpy as np\n",
        "import matplotlib.pyplot as plt\n",
        "\n",
        "BATCH_SIZE = 64\n",
        "\n",
        "# TRAIN_RATIO: train dataset ratio, should be a float in (0, 0.8]\n",
        "# (0.8-TRAIN_RATIO) will be used for valid dataset\n",
        "TRAIN_RATIO = 0.6 "
      ]
    },
    {
      "cell_type": "markdown",
      "source": [
        "## Util"
      ],
      "metadata": {
        "id": "Kz2VM-9MIyKe"
      }
    },
    {
      "cell_type": "markdown",
      "source": [
        "**Do NOT Modify** code blocks in this section"
      ],
      "metadata": {
        "id": "8qCY42PE0kRj"
      }
    },
    {
      "cell_type": "code",
      "execution_count": null,
      "metadata": {
        "id": "OOnSsL1EeG85"
      },
      "outputs": [],
      "source": [
        "SEED = 1234\n",
        "\n",
        "np.random.seed(SEED)\n",
        "torch.manual_seed(SEED)\n",
        "torch.cuda.manual_seed(SEED)\n",
        "random.seed(SEED)\n",
        "torch.backends.cudnn.deterministic = True"
      ]
    },
    {
      "cell_type": "code",
      "source": [
        "def train(model, iterator, optimizer, loss_fn, clip):\n",
        "    \n",
        "    model.train()\n",
        "    epoch_loss = 0\n",
        "    \n",
        "    for i, batch in enumerate(iterator):\n",
        "\n",
        "        src = batch[0].to(device)\n",
        "        trg = batch[1].to(device)\n",
        "        \n",
        "        optimizer.zero_grad()\n",
        "        \n",
        "        output = model(src, trg)\n",
        "        loss = loss_fn(output, trg)\n",
        "        loss.backward()\n",
        "        \n",
        "        torch.nn.utils.clip_grad_norm_(model.parameters(), clip)\n",
        "        \n",
        "        optimizer.step()\n",
        "        \n",
        "        epoch_loss += loss.item()\n",
        "        \n",
        "    return epoch_loss / len(iterator)"
      ],
      "metadata": {
        "id": "UHo7XkIGIz2z"
      },
      "execution_count": null,
      "outputs": []
    },
    {
      "cell_type": "code",
      "source": [
        "def evaluate(model, iterator, loss_fn):\n",
        "    \n",
        "    model.eval()\n",
        "    epoch_loss = 0\n",
        "    \n",
        "    with torch.no_grad():\n",
        "    \n",
        "        for i, batch in enumerate(iterator):\n",
        "\n",
        "            src = batch[0].to(device)\n",
        "            trg = batch[1].to(device)\n",
        "\n",
        "            output = model(src, trg)\n",
        "\n",
        "            loss = loss_fn(output, trg)\n",
        "            epoch_loss += loss.item()\n",
        "        \n",
        "    return epoch_loss / len(iterator)"
      ],
      "metadata": {
        "id": "l2-jeXr-I1yP"
      },
      "execution_count": null,
      "outputs": []
    },
    {
      "cell_type": "markdown",
      "metadata": {
        "id": "5PgCsIyawXoN"
      },
      "source": [
        "## Dataset & Dataloader"
      ]
    },
    {
      "cell_type": "markdown",
      "source": [
        "**Do NOT Modify** code blocks in this section"
      ],
      "metadata": {
        "id": "40ZOR80S0wet"
      }
    },
    {
      "cell_type": "code",
      "source": [
        "MAX_LENGTH = 10\n",
        "VALID_RATIO = 0.8-TRAIN_RATIO\n",
        "\n",
        "SOS_token = 0\n",
        "EOS_token = 1"
      ],
      "metadata": {
        "id": "jwwJGiyETHsL"
      },
      "execution_count": null,
      "outputs": []
    },
    {
      "cell_type": "code",
      "execution_count": null,
      "metadata": {
        "colab": {
          "base_uri": "https://localhost:8080/"
        },
        "id": "fePBsU2GKoaI",
        "outputId": "a4760df1-580b-43d3-e110-a448a1a52ed9"
      },
      "outputs": [
        {
          "output_type": "stream",
          "name": "stdout",
          "text": [
            "Reading lines...\n",
            "Read 135842 sentence pairs\n",
            "Trimmed to 10599 sentence pairs\n",
            "Counting words...\n",
            "Counted words:\n",
            "fra 4345\n",
            "eng 2803\n",
            "data example\n",
            "['tu me fais de l ombre .', 'you re blocking my light .']\n"
          ]
        }
      ],
      "source": [
        "class TranslateDataset(Dataset):\n",
        "    def __init__(self, max_length=10, fra2eng=True):\n",
        "        self.input_lang, self.output_lang, self.pairs = prepareData('eng', 'fra', max_length=max_length, reverse=fra2eng)\n",
        "        self.max_length=max_length\n",
        "\n",
        "        self.input_lang.addWord('PAD')\n",
        "        self.output_lang.addWord('PAD')\n",
        "        self.input_lang_pad = self.input_lang.word2index['PAD']\n",
        "        self.output_lang_pad = self.output_lang.word2index['PAD']\n",
        "        \n",
        "        print(\"data example\")\n",
        "        print(random.choice(self.pairs))\n",
        "\n",
        "    def __len__(self):\n",
        "        return len(self.pairs)\n",
        "\n",
        "    def __getitem__(self, idx):\n",
        "        pair = self.pairs[idx]\n",
        "        x, y = self._tensorsFromPair(pair)\n",
        "        return x, y\n",
        "\n",
        "    def _tensorFromSentence(self, lang, sentence):\n",
        "        indexes = [lang.word2index[word] for word in sentence.split(' ')]\n",
        "        indexes.append(EOS_token)\n",
        "        return torch.tensor(indexes, dtype=torch.long).view(-1, 1)\n",
        "\n",
        "    def _tensorsFromPair(self, pair):\n",
        "        input_tensor = self._tensorFromSentence(self.input_lang, pair[0])\n",
        "        target_tensor = self._tensorFromSentence(self.output_lang, pair[1])\n",
        "        return (input_tensor, target_tensor)\n",
        "    \n",
        "    def collate_fn(self, data):\n",
        "        x_batch = []; y_batch = []\n",
        "        \n",
        "        for x, y in data:\n",
        "            if x.shape[0] < self.max_length-1:\n",
        "                x = torch.cat([x, self.input_lang_pad*torch.ones((self.max_length-1 - x.shape[0], 1), dtype=x.dtype)])\n",
        "            elif x.shape[0] > self.max_length-1:\n",
        "                x = x[:self.max_length-1]\n",
        "            if y.shape[0] < self.max_length-1:\n",
        "                y = torch.cat([y, self.output_lang_pad*torch.ones((self.max_length-1 - y.shape[0], 1), dtype=y.dtype)])\n",
        "            elif y.shape[0] > self.max_length-1:\n",
        "                y = y[:self.max_length-1]\n",
        "\n",
        "            x_batch.append(torch.cat([torch.tensor([SOS_token]), x.squeeze(1)]))\n",
        "            y_batch.append(torch.cat([torch.tensor([SOS_token]), y.squeeze(1)]))\n",
        "        \n",
        "        return torch.stack(x_batch), torch.stack(y_batch)\n",
        "\n",
        "dataset = TranslateDataset(max_length=MAX_LENGTH)\n",
        "\n",
        "train_size = int(len(dataset)*TRAIN_RATIO)\n",
        "valid_size = int(len(dataset)*VALID_RATIO)\n",
        "train_data, valid_data, test_data = random_split(dataset, [train_size, valid_size, len(dataset)-(train_size+valid_size)],)\n",
        "\n",
        "train_dataloader = DataLoader(train_data, batch_size=BATCH_SIZE, collate_fn=dataset.collate_fn, shuffle=True)\n",
        "valid_dataloader = DataLoader(valid_data, batch_size=BATCH_SIZE, collate_fn=dataset.collate_fn, shuffle=True)\n",
        "test_dataloader = DataLoader(test_data, batch_size=BATCH_SIZE, collate_fn=dataset.collate_fn, shuffle=True)"
      ]
    },
    {
      "cell_type": "markdown",
      "metadata": {
        "id": "8TqutY58tG-h"
      },
      "source": [
        "# 1. Seq2Seq model with Attention Mechanism"
      ]
    },
    {
      "cell_type": "markdown",
      "metadata": {
        "id": "A5xyf2mHuhmX"
      },
      "source": [
        "## Implement LSTM Seq2Seq Model"
      ]
    },
    {
      "cell_type": "code",
      "source": [
        "class LSTMEncoder(nn.Module):\n",
        "    \n",
        "    def __init__(self, in_dim, emb_dim, hid_dim, dropout):\n",
        "        super(LSTMEncoder, self).__init__()\n",
        "\n",
        "        self.embedding = nn.Embedding(in_dim, emb_dim)\n",
        "        self.lstm = nn.LSTM(input_size=emb_dim, hidden_size=hid_dim, num_layers=1, batch_first=True)\n",
        "        self.dropout_layer = nn.Dropout(p=dropout)\n",
        "\n",
        "    def forward(self, input, hidden, cell):\n",
        "        '''\n",
        "        INPUT\n",
        "        - input: input sentence, (B, max_len)\n",
        "        - hidden: initialized hidden state, (1, B, hid_dim)\n",
        "        - cell: initialized cell state, (1, B, hid_dim)\n",
        "\n",
        "        OUTPUT\n",
        "        What to be returned depends on your implementation of LSTMSeq2Seq. (Q2 - (b))\n",
        "        Feel free to return outputs you need.\n",
        "        some examples below\n",
        "        - hidden states of encoder\n",
        "\n",
        "        '''\n",
        "        \n",
        "        input_embed = self.dropout_layer(self.embedding(input)) # (B, max_len, emb_dim)\n",
        "        \n",
        "        enc_hiddens, (hidden, cell) = self.lstm(input_embed, (hidden, cell)) # enc_hiddens -> (B, max_len, hid_dim)\n",
        "        \n",
        "        return enc_hiddens"
      ],
      "metadata": {
        "id": "1MM6lL95JcDa"
      },
      "execution_count": null,
      "outputs": []
    },
    {
      "cell_type": "code",
      "source": [
        "class AttnLSTMDecoder(nn.Module):\n",
        "\n",
        "    def __init__(self, emb_dim, hid_dim, out_dim, dropout, enc_hiddens=None):\n",
        "        super(AttnLSTMDecoder, self).__init__()\n",
        "        \n",
        "        self.t = 0 # (t)th token decoder\n",
        "        self.enc_hiddens = enc_hiddens # encoder output (B, L, hid_dim)\n",
        "        self.dropout = dropout\n",
        "        \n",
        "        self.embedding = nn.Embedding(out_dim, emb_dim)\n",
        "        self.lstm = nn.LSTM(emb_dim + hid_dim, hid_dim, batch_first=True)\n",
        "        self.classifier = nn.Linear(hid_dim, out_dim)\n",
        "        self.dropout_layer = nn.Dropout(p=self.dropout)\n",
        "\n",
        "    def forward(self, input, hidden, cell):\n",
        "        \n",
        "        '''\n",
        "        INPUT\n",
        "        - input: input sentence (B, 1) -> y_(i-1)\n",
        "        - hidden: previous hidden state (1, B, hid_dim) -> s_(i-1)\n",
        "        - cell: previous cell state (1, B, hid_dim)\n",
        "\n",
        "        OUTPUT\n",
        "        What to be returned depends on your implementation of LSTMSeq2Seq. (Q2 - (b))\n",
        "        Feel free to return outputs you need.\n",
        "        Some examples below\n",
        "        - predicted token embedding (N, emb_dim)\n",
        "        - current hidden state\n",
        "        - current cell state\n",
        "        '''\n",
        "        # s_i = f(s_(i-1), y_(i-1), c_i)\n",
        "        query = hidden.squeeze(0) # set query to calculate attention\n",
        "        query = torch.unsqueeze(query, dim=2) # query (B, hid_dim, 1) -> s_(i-1), self.enc_hiddens (B, L, hid_dim)\n",
        "        attn_score = torch.matmul(self.enc_hiddens, query)  # (B, L, 1)\n",
        "        attn_coef = F.softmax(attn_score, dim=1)\n",
        "        attn_val = (attn_coef * self.enc_hiddens).sum(dim=1, keepdim=True)  # (B, 1, hid_dim) -> c_i\n",
        "        #attn_val = self.dropout_layer(attn_val)\n",
        "\n",
        "        input_embed = self.dropout_layer(self.embedding(input))   # (B, 1, emb_dim) -> y_(i-1)\n",
        "        input_cat = torch.concat([input_embed, attn_val], dim=-1)  # (B, 1, emb_dim + hid_dim) -> lstm input\n",
        "        \n",
        "        hiddens, (hidden, cell) = self.lstm(input_cat, (hidden, cell))  # hiddens -> (B, 1, hid_dim)\n",
        "        hidden_dropout = self.dropout_layer(hidden.squeeze(0))\n",
        "        oh_token_pred = F.log_softmax(self.classifier(hidden_dropout), dim=1) # (B, out_dim)\n",
        "        pred_token_idx = oh_token_pred.max(1)[1].unsqueeze(1) # (B, 1)\n",
        "\n",
        "        self.t += 1 # update time for each forward\n",
        "\n",
        "        return oh_token_pred, pred_token_idx, hidden, cell\n"
      ],
      "metadata": {
        "id": "VPQnZdz5KKnN"
      },
      "execution_count": null,
      "outputs": []
    },
    {
      "cell_type": "code",
      "source": [
        "from torch.cuda import device_count\n",
        "class LSTMSeq2Seq(nn.Module):\n",
        "    def __init__(self, in_dim, out_dim, emb_dim, hid_dim, device, dropout):\n",
        "        super(LSTMSeq2Seq, self).__init__()\n",
        "\n",
        "        self.in_dim = in_dim\n",
        "        self.out_dim = out_dim\n",
        "        self.emb_dim = emb_dim\n",
        "        self.hid_dim = hid_dim\n",
        "        self.device = device\n",
        "        self.dropout = dropout\n",
        "        \n",
        "        self.encoder = LSTMEncoder(in_dim, emb_dim, hid_dim, dropout)\n",
        "        self.decoder = AttnLSTMDecoder(emb_dim, hid_dim, out_dim, dropout)\n",
        "        \n",
        "    def forward(self, src, trg):\n",
        "        '''\n",
        "        INPUT\n",
        "        - src: source language batched data (B, max_len)\n",
        "        - trg: target language batched data (B, max_len)\n",
        "\n",
        "        OUTPUT\n",
        "        - output of one-hot prediction (B, out_dim, max_len)\n",
        "        '''\n",
        "        batch_size, mx_len = src.shape\n",
        "\n",
        "        # Encoder (start from zero-hidden & zero-cell states)\n",
        "        init_hidden = torch.zeros(1, batch_size, self.hid_dim).to(self.device)\n",
        "        init_cell = torch.zeros(1, batch_size, self.hid_dim).to(self.device)\n",
        "        enc_hiddens = self.encoder(src, init_hidden, init_cell) # (B, L, hid_dim)\n",
        "        \n",
        "        # Decoder\n",
        "        self.decoder.enc_hiddens = enc_hiddens # set encoder's hidden states\n",
        "        outputs = torch.zeros(mx_len, batch_size, dataset.output_lang.n_words).to(self.device) # to store each decoder's output\n",
        "        \n",
        "        # Decoder hidden/cell initialization\n",
        "        hidden = enc_hiddens[:, -1, :].unsqueeze(0)   # (1, B, hid_dim)\n",
        "        cell = torch.zeros(1, batch_size, self.hid_dim).to(self.device)   # (1, B, hid_dim)\n",
        "\n",
        "        # First output token [SOS]\n",
        "        # trg -> (B, mx_len) => [SOS] : (B, 1) -> (B, 1, emb_dim)\n",
        "        input = trg[:, 0].unsqueeze(1) # (B, 1)\n",
        "        \n",
        "        for t in range(1, mx_len): # for each t'th token, get decoder outputs\n",
        "            oh_token_pred, input, hidden, cell = self.decoder(input, hidden, cell)\n",
        "            outputs[t-1] = oh_token_pred  # oh_token_pred -> (B, num_output_words)\n",
        "\n",
        "        self.decoder.t=0 # after for loop, reset decoder's time to evaluate properly\n",
        "\n",
        "        outputs = torch.permute(outputs, (1, 2, 0))\n",
        "        # outputs -> (L, B, num_output_words) => (B, num_output_words, L)\n",
        "        return outputs"
      ],
      "metadata": {
        "id": "zJsJ3p2NLD6c"
      },
      "execution_count": null,
      "outputs": []
    },
    {
      "cell_type": "markdown",
      "metadata": {
        "id": "cu3WP3mYw3NV"
      },
      "source": [
        "## Training"
      ]
    },
    {
      "cell_type": "code",
      "execution_count": null,
      "metadata": {
        "id": "1QQgN03XecUV"
      },
      "outputs": [],
      "source": [
        "in_dim = dataset.input_lang.n_words\n",
        "out_dim = dataset.output_lang.n_words\n",
        "hid_dim = 1024 #256\n",
        "emb_dim = 1024 #256\n",
        "dropout = 0.3\n",
        "learning_rate=1e-4\n",
        "N_EPOCHS = 100\n",
        "valid_every=5\n",
        "best_valid_loss = float('inf')\n",
        "\n",
        "device = torch.device('cuda' if torch.cuda.is_available() else 'cpu')\n",
        "model = LSTMSeq2Seq(in_dim, out_dim, emb_dim, hid_dim, device, dropout).to(device)\n",
        "\n",
        "from torch.optim.lr_scheduler import MultiStepLR as MultiStepLR\n",
        "\n",
        "optimizer = torch.optim.Adam(model.parameters(), lr=learning_rate)\n",
        "scheduler = MultiStepLR(optimizer, milestones=[50], gamma=0.1)\n",
        "loss_fn = nn.NLLLoss(ignore_index = dataset.output_lang_pad)"
      ]
    },
    {
      "cell_type": "code",
      "execution_count": null,
      "metadata": {
        "id": "JbSR6BZKf-6L",
        "colab": {
          "base_uri": "https://localhost:8080/"
        },
        "outputId": "f198bf93-244c-42d5-bee6-d1783ee35f0f"
      },
      "outputs": [
        {
          "output_type": "stream",
          "name": "stdout",
          "text": [
            "Epoch: 01\n",
            "\tTrain Loss: 4.1722699 | Train PPL:  64.863\n",
            "==========================\n",
            "\t Val. Loss: 3.083 |  Val. PPL:  21.825\n",
            "Epoch: 02\n",
            "\tTrain Loss: 2.9440387 | Train PPL:  18.992\n",
            "Epoch: 03\n",
            "\tTrain Loss: 2.7089903 | Train PPL:  15.014\n",
            "Epoch: 04\n",
            "\tTrain Loss: 2.5704601 | Train PPL:  13.072\n",
            "Epoch: 05\n",
            "\tTrain Loss: 2.4729254 | Train PPL:  11.857\n",
            "Epoch: 06\n",
            "\tTrain Loss: 2.3784143 | Train PPL:  10.788\n",
            "==========================\n",
            "\t Val. Loss: 2.382 |  Val. PPL:  10.827\n",
            "Epoch: 07\n",
            "\tTrain Loss: 2.2857578 | Train PPL:   9.833\n",
            "Epoch: 08\n",
            "\tTrain Loss: 2.1964184 | Train PPL:   8.993\n",
            "Epoch: 09\n",
            "\tTrain Loss: 2.1079584 | Train PPL:   8.231\n",
            "Epoch: 10\n",
            "\tTrain Loss: 2.0355800 | Train PPL:   7.657\n",
            "Epoch: 11\n",
            "\tTrain Loss: 1.9681651 | Train PPL:   7.158\n",
            "==========================\n",
            "\t Val. Loss: 2.134 |  Val. PPL:   8.445\n",
            "Epoch: 12\n",
            "\tTrain Loss: 1.8989067 | Train PPL:   6.679\n",
            "Epoch: 13\n",
            "\tTrain Loss: 1.8368327 | Train PPL:   6.277\n",
            "Epoch: 14\n",
            "\tTrain Loss: 1.7700354 | Train PPL:   5.871\n",
            "Epoch: 15\n",
            "\tTrain Loss: 1.7116026 | Train PPL:   5.538\n",
            "Epoch: 16\n",
            "\tTrain Loss: 1.6582836 | Train PPL:   5.250\n",
            "==========================\n",
            "\t Val. Loss: 1.985 |  Val. PPL:   7.282\n",
            "Epoch: 17\n",
            "\tTrain Loss: 1.6077558 | Train PPL:   4.992\n",
            "Epoch: 18\n",
            "\tTrain Loss: 1.5531197 | Train PPL:   4.726\n",
            "Epoch: 19\n",
            "\tTrain Loss: 1.4974085 | Train PPL:   4.470\n",
            "Epoch: 20\n",
            "\tTrain Loss: 1.4525075 | Train PPL:   4.274\n",
            "Epoch: 21\n",
            "\tTrain Loss: 1.3988681 | Train PPL:   4.051\n",
            "==========================\n",
            "\t Val. Loss: 1.864 |  Val. PPL:   6.448\n",
            "Epoch: 22\n",
            "\tTrain Loss: 1.3459709 | Train PPL:   3.842\n",
            "Epoch: 23\n",
            "\tTrain Loss: 1.3021683 | Train PPL:   3.677\n",
            "Epoch: 24\n",
            "\tTrain Loss: 1.2604735 | Train PPL:   3.527\n",
            "Epoch: 25\n",
            "\tTrain Loss: 1.2170334 | Train PPL:   3.377\n",
            "Epoch: 26\n",
            "\tTrain Loss: 1.1697061 | Train PPL:   3.221\n",
            "==========================\n",
            "\t Val. Loss: 1.797 |  Val. PPL:   6.034\n",
            "Epoch: 27\n",
            "\tTrain Loss: 1.1331024 | Train PPL:   3.105\n",
            "Epoch: 28\n",
            "\tTrain Loss: 1.0938146 | Train PPL:   2.986\n",
            "Epoch: 29\n",
            "\tTrain Loss: 1.0562910 | Train PPL:   2.876\n",
            "Epoch: 30\n",
            "\tTrain Loss: 1.0110489 | Train PPL:   2.748\n",
            "Epoch: 31\n",
            "\tTrain Loss: 0.9776507 | Train PPL:   2.658\n",
            "==========================\n",
            "\t Val. Loss: 1.711 |  Val. PPL:   5.537\n",
            "Epoch: 32\n",
            "\tTrain Loss: 0.9429998 | Train PPL:   2.568\n",
            "Epoch: 33\n",
            "\tTrain Loss: 0.9021695 | Train PPL:   2.465\n",
            "Epoch: 34\n",
            "\tTrain Loss: 0.8680585 | Train PPL:   2.382\n",
            "Epoch: 35\n",
            "\tTrain Loss: 0.8329592 | Train PPL:   2.300\n",
            "Epoch: 36\n",
            "\tTrain Loss: 0.7942021 | Train PPL:   2.213\n",
            "==========================\n",
            "\t Val. Loss: 1.693 |  Val. PPL:   5.435\n",
            "Epoch: 37\n",
            "\tTrain Loss: 0.7620473 | Train PPL:   2.143\n",
            "Epoch: 38\n",
            "\tTrain Loss: 0.7299311 | Train PPL:   2.075\n",
            "Epoch: 39\n",
            "\tTrain Loss: 0.7069657 | Train PPL:   2.028\n",
            "Epoch: 40\n",
            "\tTrain Loss: 0.6717554 | Train PPL:   1.958\n",
            "Epoch: 41\n",
            "\tTrain Loss: 0.6404937 | Train PPL:   1.897\n",
            "==========================\n",
            "\t Val. Loss: 1.652 |  Val. PPL:   5.218\n",
            "Epoch: 42\n",
            "\tTrain Loss: 0.6176785 | Train PPL:   1.855\n",
            "Epoch: 43\n",
            "\tTrain Loss: 0.5883021 | Train PPL:   1.801\n",
            "Epoch: 44\n",
            "\tTrain Loss: 0.5568364 | Train PPL:   1.745\n",
            "Epoch: 45\n",
            "\tTrain Loss: 0.5323849 | Train PPL:   1.703\n",
            "Epoch: 46\n",
            "\tTrain Loss: 0.5063996 | Train PPL:   1.659\n",
            "==========================\n",
            "\t Val. Loss: 1.595 |  Val. PPL:   4.926\n",
            "Epoch: 47\n",
            "\tTrain Loss: 0.4823074 | Train PPL:   1.620\n",
            "Epoch: 48\n",
            "\tTrain Loss: 0.4567103 | Train PPL:   1.579\n",
            "Epoch: 49\n",
            "\tTrain Loss: 0.4358498 | Train PPL:   1.546\n",
            "Epoch: 50\n",
            "\tTrain Loss: 0.4087943 | Train PPL:   1.505\n",
            "Epoch: 51\n",
            "\tTrain Loss: 0.3675505 | Train PPL:   1.444\n",
            "==========================\n",
            "\t Val. Loss: 1.584 |  Val. PPL:   4.875\n",
            "Epoch: 52\n",
            "\tTrain Loss: 0.3557192 | Train PPL:   1.427\n",
            "Epoch: 53\n",
            "\tTrain Loss: 0.3523183 | Train PPL:   1.422\n",
            "Epoch: 54\n",
            "\tTrain Loss: 0.3426768 | Train PPL:   1.409\n",
            "Epoch: 55\n",
            "\tTrain Loss: 0.3391776 | Train PPL:   1.404\n",
            "Epoch: 56\n",
            "\tTrain Loss: 0.3373513 | Train PPL:   1.401\n",
            "==========================\n",
            "\t Val. Loss: 1.596 |  Val. PPL:   4.934\n",
            "Epoch: 57\n",
            "\tTrain Loss: 0.3324836 | Train PPL:   1.394\n",
            "Epoch: 58\n",
            "\tTrain Loss: 0.3281956 | Train PPL:   1.388\n",
            "Epoch: 59\n",
            "\tTrain Loss: 0.3257055 | Train PPL:   1.385\n",
            "Epoch: 60\n",
            "\tTrain Loss: 0.3245431 | Train PPL:   1.383\n",
            "Epoch: 61\n",
            "\tTrain Loss: 0.3209643 | Train PPL:   1.378\n",
            "==========================\n",
            "\t Val. Loss: 1.577 |  Val. PPL:   4.843\n",
            "Epoch: 62\n",
            "\tTrain Loss: 0.3184608 | Train PPL:   1.375\n",
            "Epoch: 63\n",
            "\tTrain Loss: 0.3144645 | Train PPL:   1.370\n",
            "Epoch: 64\n",
            "\tTrain Loss: 0.3093319 | Train PPL:   1.363\n",
            "Epoch: 65\n",
            "\tTrain Loss: 0.3093386 | Train PPL:   1.363\n",
            "Epoch: 66\n",
            "\tTrain Loss: 0.3061538 | Train PPL:   1.358\n",
            "==========================\n",
            "\t Val. Loss: 1.605 |  Val. PPL:   4.977\n",
            "Epoch: 67\n",
            "\tTrain Loss: 0.3029648 | Train PPL:   1.354\n",
            "Epoch: 68\n",
            "\tTrain Loss: 0.3007477 | Train PPL:   1.351\n",
            "Epoch: 69\n",
            "\tTrain Loss: 0.2992110 | Train PPL:   1.349\n",
            "Epoch: 70\n",
            "\tTrain Loss: 0.2985794 | Train PPL:   1.348\n",
            "Epoch: 71\n",
            "\tTrain Loss: 0.2939409 | Train PPL:   1.342\n",
            "==========================\n",
            "\t Val. Loss: 1.589 |  Val. PPL:   4.898\n",
            "Epoch: 72\n",
            "\tTrain Loss: 0.2901445 | Train PPL:   1.337\n",
            "Epoch: 73\n",
            "\tTrain Loss: 0.2886846 | Train PPL:   1.335\n",
            "Epoch: 74\n",
            "\tTrain Loss: 0.2876460 | Train PPL:   1.333\n",
            "Epoch: 75\n",
            "\tTrain Loss: 0.2849393 | Train PPL:   1.330\n",
            "Epoch: 76\n",
            "\tTrain Loss: 0.2821976 | Train PPL:   1.326\n",
            "==========================\n",
            "\t Val. Loss: 1.593 |  Val. PPL:   4.920\n",
            "Epoch: 77\n",
            "\tTrain Loss: 0.2773218 | Train PPL:   1.320\n",
            "Epoch: 78\n",
            "\tTrain Loss: 0.2801041 | Train PPL:   1.323\n",
            "Epoch: 79\n",
            "\tTrain Loss: 0.2751837 | Train PPL:   1.317\n",
            "Epoch: 80\n",
            "\tTrain Loss: 0.2758615 | Train PPL:   1.318\n",
            "Epoch: 81\n",
            "\tTrain Loss: 0.2710904 | Train PPL:   1.311\n",
            "==========================\n",
            "\t Val. Loss: 1.632 |  Val. PPL:   5.114\n",
            "Epoch: 82\n",
            "\tTrain Loss: 0.2691634 | Train PPL:   1.309\n",
            "Epoch: 83\n",
            "\tTrain Loss: 0.2667024 | Train PPL:   1.306\n",
            "Epoch: 84\n",
            "\tTrain Loss: 0.2676500 | Train PPL:   1.307\n",
            "Epoch: 85\n",
            "\tTrain Loss: 0.2631335 | Train PPL:   1.301\n",
            "Epoch: 86\n",
            "\tTrain Loss: 0.2594598 | Train PPL:   1.296\n",
            "==========================\n",
            "\t Val. Loss: 1.623 |  Val. PPL:   5.067\n",
            "Epoch: 87\n",
            "\tTrain Loss: 0.2592723 | Train PPL:   1.296\n",
            "Epoch: 88\n",
            "\tTrain Loss: 0.2579872 | Train PPL:   1.294\n",
            "Epoch: 89\n",
            "\tTrain Loss: 0.2561155 | Train PPL:   1.292\n",
            "Epoch: 90\n",
            "\tTrain Loss: 0.2544349 | Train PPL:   1.290\n",
            "Epoch: 91\n",
            "\tTrain Loss: 0.2513827 | Train PPL:   1.286\n",
            "==========================\n",
            "\t Val. Loss: 1.592 |  Val. PPL:   4.915\n",
            "Epoch: 92\n",
            "\tTrain Loss: 0.2497050 | Train PPL:   1.284\n",
            "Epoch: 93\n",
            "\tTrain Loss: 0.2458911 | Train PPL:   1.279\n",
            "Epoch: 94\n",
            "\tTrain Loss: 0.2473386 | Train PPL:   1.281\n",
            "Epoch: 95\n",
            "\tTrain Loss: 0.2446047 | Train PPL:   1.277\n",
            "Epoch: 96\n",
            "\tTrain Loss: 0.2406844 | Train PPL:   1.272\n",
            "==========================\n",
            "\t Val. Loss: 1.631 |  Val. PPL:   5.110\n",
            "Epoch: 97\n",
            "\tTrain Loss: 0.2392262 | Train PPL:   1.270\n",
            "Epoch: 98\n",
            "\tTrain Loss: 0.2367724 | Train PPL:   1.267\n",
            "Epoch: 99\n",
            "\tTrain Loss: 0.2362432 | Train PPL:   1.266\n",
            "Epoch: 100\n",
            "\tTrain Loss: 0.2344443 | Train PPL:   1.264\n"
          ]
        }
      ],
      "source": [
        "# Train your model\n",
        "train_loss_list = []    # for every epoch\n",
        "valid_loss_list = []    # for every 5 epochs\n",
        "\n",
        "for epoch in range(N_EPOCHS):\n",
        "    \n",
        "    train_loss = train(model, train_dataloader, optimizer, loss_fn, 1)\n",
        "    train_loss_list.append(train_loss)\n",
        "    scheduler.step()\n",
        "    \n",
        "    print(f'Epoch: {epoch+1:02}')\n",
        "    print(f'\\tTrain Loss: {train_loss:.7f} | Train PPL: {math.exp(train_loss):7.3f}')\n",
        "    \n",
        "    if epoch%valid_every==0:\n",
        "        print(\"==========================\")\n",
        "        valid_loss = evaluate(model, valid_dataloader, loss_fn)\n",
        "        valid_loss_list.append(valid_loss)\n",
        "\n",
        "        if valid_loss < best_valid_loss:\n",
        "            best_valid_loss = valid_loss\n",
        "            model.decoder.t=0\n",
        "            torch.save(model.state_dict(), 'lstm-attn-model.pt')\n",
        "\n",
        "        print(f'\\t Val. Loss: {valid_loss:.3f} |  Val. PPL: {math.exp(valid_loss):7.3f}')"
      ]
    },
    {
      "cell_type": "code",
      "source": [
        "# train/validation loss visualization\n",
        "import matplotlib.pyplot as plt\n",
        "\n",
        "plt.plot(np.arange(1, N_EPOCHS+1), train_loss_list)\n",
        "#plt.plot(np.arange(1, N_EPOCHS, valid_every), valid_loss_list)\n",
        "plt.title('Train Loss')\n",
        "plt.xlabel('Epoch')\n",
        "plt.ylabel('Loss')\n",
        "plt.show()"
      ],
      "metadata": {
        "colab": {
          "base_uri": "https://localhost:8080/",
          "height": 295
        },
        "id": "dFoX4R1TrGpk",
        "outputId": "081b21d3-1432-4bba-88cb-cc7a54f8fd9a"
      },
      "execution_count": null,
      "outputs": [
        {
          "output_type": "display_data",
          "data": {
            "text/plain": [
              "<Figure size 432x288 with 1 Axes>"
            ],
            "image/png": "[encoded data removed]"
          },
          "metadata": {
            "needs_background": "light"
          }
        }
      ]
    },
    {
      "cell_type": "code",
      "source": [
        "plt.plot(np.arange(1, N_EPOCHS+1, valid_every), valid_loss_list)\n",
        "plt.title('Valid Loss')\n",
        "plt.xlabel('Epoch')\n",
        "plt.ylabel('Loss')\n",
        "plt.show()"
      ],
      "metadata": {
        "colab": {
          "base_uri": "https://localhost:8080/",
          "height": 295
        },
        "id": "39Uss0oKxSqc",
        "outputId": "323d5db3-2637-43d5-f229-76b28561661d"
      },
      "execution_count": null,
      "outputs": [
        {
          "output_type": "display_data",
          "data": {
            "text/plain": [
              "<Figure size 432x288 with 1 Axes>"
            ],
            "image/png": "[encoded data removed]"
          },
          "metadata": {
            "needs_background": "light"
          }
        }
      ]
    },
    {
      "cell_type": "code",
      "source": [
        "# Test your model\n",
        "\n",
        "loaded_model = LSTMSeq2Seq(in_dim, out_dim, emb_dim, hid_dim, device, dropout).to(device)\n",
        "loaded_model.load_state_dict(torch.load('lstm-attn-model.pt'))\n",
        "\n",
        "test_loss = evaluate(loaded_model, test_dataloader, loss_fn)\n",
        "print(f'\\t Test. Loss: {test_loss:.3f} |  Test. PPL: {math.exp(test_loss):7.3f}')"
      ],
      "metadata": {
        "id": "hBXKAKZo2lSS",
        "colab": {
          "base_uri": "https://localhost:8080/"
        },
        "outputId": "b4e0fded-502e-4094-bdf3-e749eac66c33"
      },
      "execution_count": null,
      "outputs": [
        {
          "output_type": "stream",
          "name": "stdout",
          "text": [
            "\t Test. Loss: 1.547 |  Test. PPL:   4.697\n"
          ]
        }
      ]
    },
    {
      "cell_type": "markdown",
      "source": [
        "## [Bonus] Implement GRU Seq2Seq Model"
      ],
      "metadata": {
        "id": "FD1SYbuKOKGN"
      }
    },
    {
      "cell_type": "code",
      "source": [
        "class GRUEncoder(nn.Module):\n",
        "    \n",
        "    def __init__(self, in_dim, emb_dim, hid_dim, dropout):\n",
        "        super(GRUEncoder, self).__init__()\n",
        "        self.embedding = nn.Embedding(in_dim, emb_dim)\n",
        "        self.gru = nn.GRU(input_size=emb_dim, hidden_size=hid_dim, num_layers=1, batch_first=True)\n",
        "        self.dropout_layer = nn.Dropout(p=dropout)\n",
        "\n",
        "    def forward(self, input, hidden):\n",
        "        input_embed = self.dropout_layer(self.embedding(input)) # (B, max_len, emb_dim)\n",
        "        \n",
        "        enc_hiddens, hidden = self.gru(input_embed, hidden) # enc_hiddens -> (B, max_len, hid_dim)\n",
        "        \n",
        "        return enc_hiddens"
      ],
      "metadata": {
        "id": "2U9A9kh3OSWW"
      },
      "execution_count": null,
      "outputs": []
    },
    {
      "cell_type": "code",
      "source": [
        "class AttnGRUDecoder(nn.Module):\n",
        "\n",
        "    def __init__(self, emb_dim, hid_dim, out_dim, dropout, enc_hiddens=None):\n",
        "        super(AttnGRUDecoder, self).__init__()\n",
        "        self.t = 0 # (t)th token decoder\n",
        "        self.enc_hiddens = enc_hiddens # encoder output (B, L, hid_dim)\n",
        "        self.dropout = dropout\n",
        "        \n",
        "        self.embedding = nn.Embedding(out_dim, emb_dim)\n",
        "        self.gru = nn.GRU(emb_dim + hid_dim, hid_dim, batch_first=True)\n",
        "        self.classifier = nn.Linear(hid_dim, out_dim)\n",
        "        self.dropout_layer = nn.Dropout(p=self.dropout)\n",
        "  \n",
        "    def forward(self, input, hidden):\n",
        "        # s_i = f(s_(i-1), y_(i-1), c_i)\n",
        "        query = hidden.squeeze(0) # set query to calculate attention\n",
        "        query = torch.unsqueeze(query, dim=2) # query (B, hid_dim, 1) -> s_(i-1), self.enc_hiddens (B, L, hid_dim)\n",
        "        attn_score = torch.matmul(self.enc_hiddens, query)  # (B, L, 1)\n",
        "        attn_coef = F.softmax(attn_score, dim=1)\n",
        "        attn_val = (attn_coef * self.enc_hiddens).sum(dim=1, keepdim=True)  # (B, 1, hid_dim) -> c_i\n",
        "        attn_val = self.dropout_layer(attn_val)\n",
        "\n",
        "        input_embed = self.dropout_layer(self.embedding(input))   # (B, 1, emb_dim) -> y_(i-1)\n",
        "        input_cat = torch.concat([input_embed, attn_val], dim=-1)  # (B, 1, emb_dim + hid_dim) -> lstm input\n",
        "        \n",
        "        hiddens, hidden = self.gru(input_cat, hidden)  # hiddens -> (B, 1, hid_dim)\n",
        "        hidden_dropout = self.dropout_layer(hidden.squeeze(0))\n",
        "        oh_token_pred = F.log_softmax(self.classifier(hidden_dropout), dim=1) # (B, out_dim)\n",
        "        pred_token_idx = oh_token_pred.max(1)[1].unsqueeze(1) # (B, 1)\n",
        "\n",
        "        self.t += 1 # update time for each forward\n",
        "\n",
        "        return oh_token_pred, pred_token_idx, hidden"
      ],
      "metadata": {
        "id": "9-IRYjI6O0xb"
      },
      "execution_count": null,
      "outputs": []
    },
    {
      "cell_type": "code",
      "source": [
        "class GRUSeq2Seq(nn.Module):\n",
        "    def __init__(self, in_dim, out_dim, emb_dim, hid_dim, device, dropout):\n",
        "        super(GRUSeq2Seq, self).__init__()\n",
        "\n",
        "        self.in_dim = in_dim\n",
        "        self.out_dim = out_dim\n",
        "        self.emb_dim = emb_dim\n",
        "        self.hid_dim = hid_dim\n",
        "        self.device = device\n",
        "        self.dropout = dropout\n",
        "        \n",
        "        self.encoder = GRUEncoder(in_dim, emb_dim, hid_dim, dropout)\n",
        "        self.decoder = AttnGRUDecoder(emb_dim, hid_dim, out_dim, dropout)\n",
        "        \n",
        "    def forward(self, src, trg):\n",
        "        \n",
        "        batch_size, mx_len = src.shape\n",
        "        \n",
        "        # Encoder (start from zero-hidden & zero-cell states)\n",
        "        init_hidden = torch.zeros(1, batch_size, self.hid_dim).to(self.device)\n",
        "        enc_hiddens = self.encoder(src, init_hidden) # (B, L, hid_dim)\n",
        "        \n",
        "        # Decoder\n",
        "        self.decoder.enc_hiddens = enc_hiddens # set encoder's hidden states\n",
        "        outputs = torch.zeros(mx_len, batch_size, dataset.output_lang.n_words).to(self.device) # to store each decoder's output\n",
        "        \n",
        "        # Decoder hidden/cell initialization\n",
        "        hidden = enc_hiddens[:, -1, :].unsqueeze(0)   # (1, B, hid_dim)\n",
        "\n",
        "        # First output token [SOS]\n",
        "        # trg -> (B, mx_len) => [SOS] : (B, 1) -> (B, 1, emb_dim)\n",
        "        input = trg[:, 0].unsqueeze(1) # (B, 1)\n",
        "        \n",
        "        for t in range(1, mx_len): # for each t'th token, get decoder outputs\n",
        "            oh_token_pred, input, hidden = self.decoder(input, hidden)\n",
        "            outputs[t-1] = oh_token_pred  # oh_token_pred -> (B, num_output_words)\n",
        "\n",
        "        self.decoder.t=0 # after for loop, reset decoder's time to evaluate properly\n",
        "\n",
        "        outputs = torch.permute(outputs, (1, 2, 0))\n",
        "        # outputs -> (L, B, num_output_words) => (B, num_output_words, L)\n",
        "        return outputs"
      ],
      "metadata": {
        "id": "BOOj4_hhP83d"
      },
      "execution_count": null,
      "outputs": []
    },
    {
      "cell_type": "code",
      "source": [
        "in_dim = dataset.input_lang.n_words\n",
        "out_dim = dataset.output_lang.n_words\n",
        "hid_dim = 1024 #256\n",
        "emb_dim = 1024 #256\n",
        "dropout = 0.5\n",
        "learning_rate=1e-3\n",
        "N_EPOCHS = 30\n",
        "valid_every=5\n",
        "best_valid_loss = float('inf')"
      ],
      "metadata": {
        "id": "c1RfJdjaREMX"
      },
      "execution_count": null,
      "outputs": []
    },
    {
      "cell_type": "code",
      "source": [
        "from torch.optim.lr_scheduler import MultiStepLR as MultiStepLR\n",
        "\n",
        "device = torch.device('cuda' if torch.cuda.is_available() else 'cpu')\n",
        "gru_model = GRUSeq2Seq(in_dim, out_dim, emb_dim, hid_dim, device, dropout).to(device)\n",
        "\n",
        "optimizer = torch.optim.Adam(gru_model.parameters(), lr=learning_rate)\n",
        "scheduler = MultiStepLR(optimizer, milestones=[10], gamma=0.1)\n",
        "loss_fn = nn.NLLLoss(ignore_index = dataset.output_lang_pad)\n",
        "\n",
        "train_loss_list = []    # for every epoch\n",
        "valid_loss_list = []    # for every 5 epochs\n",
        "\n",
        "for epoch in range(N_EPOCHS):\n",
        "    \n",
        "    train_loss = train(gru_model, train_dataloader, optimizer, loss_fn, 1)\n",
        "    train_loss_list.append(train_loss)\n",
        "    scheduler.step()\n",
        "    \n",
        "    print(f'Epoch: {epoch+1:02}')\n",
        "    print(f'\\tTrain Loss: {train_loss:.7f} | Train PPL: {math.exp(train_loss):7.3f}')\n",
        "    \n",
        "    if epoch%valid_every==0:\n",
        "        print(\"==========================\")\n",
        "        valid_loss = evaluate(gru_model, valid_dataloader, loss_fn)\n",
        "        valid_loss_list.append(valid_loss)\n",
        "\n",
        "        if valid_loss < best_valid_loss:\n",
        "            best_valid_loss = valid_loss\n",
        "            gru_model.decoder.t=0\n",
        "            torch.save(gru_model.state_dict(), 'gru-attn-model.pt')\n",
        "\n",
        "        print(f'\\t Val. Loss: {valid_loss:.3f} |  Val. PPL: {math.exp(valid_loss):7.3f}')"
      ],
      "metadata": {
        "id": "usq_ohj4Qqf5",
        "colab": {
          "base_uri": "https://localhost:8080/"
        },
        "outputId": "6814814d-c55a-46e9-d8dc-59b6cbd266c7"
      },
      "execution_count": null,
      "outputs": [
        {
          "output_type": "stream",
          "name": "stdout",
          "text": [
            "Epoch: 01\n",
            "\tTrain Loss: 3.1146916 | Train PPL:  22.526\n",
            "==========================\n",
            "\t Val. Loss: 2.481 |  Val. PPL:  11.953\n",
            "Epoch: 02\n",
            "\tTrain Loss: 2.3979342 | Train PPL:  11.000\n",
            "Epoch: 03\n",
            "\tTrain Loss: 2.0964141 | Train PPL:   8.137\n",
            "Epoch: 04\n",
            "\tTrain Loss: 1.8360295 | Train PPL:   6.272\n",
            "Epoch: 05\n",
            "\tTrain Loss: 1.6181364 | Train PPL:   5.044\n",
            "Epoch: 06\n",
            "\tTrain Loss: 1.4392182 | Train PPL:   4.217\n",
            "==========================\n",
            "\t Val. Loss: 1.710 |  Val. PPL:   5.531\n",
            "Epoch: 07\n",
            "\tTrain Loss: 1.2818150 | Train PPL:   3.603\n",
            "Epoch: 08\n",
            "\tTrain Loss: 1.1370130 | Train PPL:   3.117\n",
            "Epoch: 09\n",
            "\tTrain Loss: 1.0286618 | Train PPL:   2.797\n",
            "Epoch: 10\n",
            "\tTrain Loss: 0.9272217 | Train PPL:   2.527\n",
            "Epoch: 11\n",
            "\tTrain Loss: 0.7624662 | Train PPL:   2.144\n",
            "==========================\n",
            "\t Val. Loss: 1.610 |  Val. PPL:   5.003\n",
            "Epoch: 12\n",
            "\tTrain Loss: 0.7076680 | Train PPL:   2.029\n",
            "Epoch: 13\n",
            "\tTrain Loss: 0.6733205 | Train PPL:   1.961\n",
            "Epoch: 14\n",
            "\tTrain Loss: 0.6512425 | Train PPL:   1.918\n",
            "Epoch: 15\n",
            "\tTrain Loss: 0.6242630 | Train PPL:   1.867\n",
            "Epoch: 16\n",
            "\tTrain Loss: 0.6032311 | Train PPL:   1.828\n",
            "==========================\n",
            "\t Val. Loss: 1.600 |  Val. PPL:   4.955\n",
            "Epoch: 17\n",
            "\tTrain Loss: 0.5869459 | Train PPL:   1.798\n",
            "Epoch: 18\n",
            "\tTrain Loss: 0.5707425 | Train PPL:   1.770\n",
            "Epoch: 19\n",
            "\tTrain Loss: 0.5478372 | Train PPL:   1.730\n",
            "Epoch: 20\n",
            "\tTrain Loss: 0.5367564 | Train PPL:   1.710\n",
            "Epoch: 21\n",
            "\tTrain Loss: 0.5199211 | Train PPL:   1.682\n",
            "==========================\n",
            "\t Val. Loss: 1.607 |  Val. PPL:   4.987\n",
            "Epoch: 22\n",
            "\tTrain Loss: 0.5174364 | Train PPL:   1.678\n",
            "Epoch: 23\n",
            "\tTrain Loss: 0.5027137 | Train PPL:   1.653\n",
            "Epoch: 24\n",
            "\tTrain Loss: 0.4842698 | Train PPL:   1.623\n",
            "Epoch: 25\n",
            "\tTrain Loss: 0.4754136 | Train PPL:   1.609\n",
            "Epoch: 26\n",
            "\tTrain Loss: 0.4649307 | Train PPL:   1.592\n",
            "==========================\n",
            "\t Val. Loss: 1.588 |  Val. PPL:   4.896\n",
            "Epoch: 27\n",
            "\tTrain Loss: 0.4637252 | Train PPL:   1.590\n",
            "Epoch: 28\n",
            "\tTrain Loss: 0.4470660 | Train PPL:   1.564\n",
            "Epoch: 29\n",
            "\tTrain Loss: 0.4374548 | Train PPL:   1.549\n",
            "Epoch: 30\n",
            "\tTrain Loss: 0.4263664 | Train PPL:   1.532\n"
          ]
        }
      ]
    },
    {
      "cell_type": "code",
      "source": [
        "loaded_model = GRUSeq2Seq(in_dim, out_dim, emb_dim, hid_dim, device, dropout).to(device)\n",
        "loaded_model.load_state_dict(torch.load('gru-attn-model.pt'))\n",
        "\n",
        "test_loss = evaluate(loaded_model, test_dataloader, loss_fn)\n",
        "print(f'\\t Test. Loss: {test_loss:.3f} |  Test. PPL: {math.exp(test_loss):7.3f}')"
      ],
      "metadata": {
        "id": "WrFYlXfiRCSn",
        "colab": {
          "base_uri": "https://localhost:8080/"
        },
        "outputId": "355a514d-ae89-4e68-de6d-9d2974e1fcb0"
      },
      "execution_count": null,
      "outputs": [
        {
          "output_type": "stream",
          "name": "stdout",
          "text": [
            "\t Test. Loss: 1.546 |  Test. PPL:   4.693\n"
          ]
        }
      ]
    },
    {
      "cell_type": "code",
      "source": [
        "# train/validation loss visualization\n",
        "import matplotlib.pyplot as plt\n",
        "\n",
        "plt.plot(np.arange(1, N_EPOCHS+1), train_loss_list)\n",
        "#plt.plot(np.arange(1, N_EPOCHS, valid_every), valid_loss_list)\n",
        "plt.title('Train Loss')\n",
        "plt.xlabel('Epoch')\n",
        "plt.ylabel('Loss')\n",
        "plt.show()"
      ],
      "metadata": {
        "id": "UXvP9tYIx6S_",
        "colab": {
          "base_uri": "https://localhost:8080/",
          "height": 295
        },
        "outputId": "20cd4143-4200-455b-c285-bb0da0c0ae59"
      },
      "execution_count": null,
      "outputs": [
        {
          "output_type": "display_data",
          "data": {
            "text/plain": [
              "<Figure size 432x288 with 1 Axes>"
            ],
            "image/png": "[encoded data removed]"
          },
          "metadata": {
            "needs_background": "light"
          }
        }
      ]
    },
    {
      "cell_type": "code",
      "source": [
        "plt.plot(np.arange(1, N_EPOCHS+1, valid_every), valid_loss_list)\n",
        "plt.title('Valid Loss')\n",
        "plt.xlabel('Epoch')\n",
        "plt.ylabel('Loss')\n",
        "plt.show()"
      ],
      "metadata": {
        "id": "IKaLmQoHx7sP",
        "colab": {
          "base_uri": "https://localhost:8080/",
          "height": 295
        },
        "outputId": "207e324e-bb00-4fe4-c70d-157ea93131f0"
      },
      "execution_count": null,
      "outputs": [
        {
          "output_type": "display_data",
          "data": {
            "text/plain": [
              "<Figure size 432x288 with 1 Axes>"
            ],
            "image/png": "[encoded data removed]"
          },
          "metadata": {
            "needs_background": "light"
          }
        }
      ]
    },
    {
      "cell_type": "markdown",
      "source": [
        "# 2. Seq2Seq model with Transformer"
      ],
      "metadata": {
        "id": "qAZdJqTJXVcP"
      }
    },
    {
      "cell_type": "markdown",
      "source": [
        "## Implement Transformer Seq2Seq Model"
      ],
      "metadata": {
        "id": "t07UOwbpH7CZ"
      }
    },
    {
      "cell_type": "code",
      "source": [
        "class TransEncoder(nn.Module):\n",
        "    def __init__(self, input_dim, hid_dim, n_layers, n_heads, ff_dim, dropout, device, max_length = MAX_LENGTH):\n",
        "        super().__init__()\n",
        "\n",
        "        self.hid_dim = hid_dim\n",
        "        self.max_length = max_length\n",
        "\n",
        "        self.tok_embedding = nn.Embedding(input_dim, hid_dim)\n",
        "        \n",
        "        encoder_layer = TransformerEncoderLayer(hid_dim, n_heads, ff_dim, dropout, batch_first=True)\n",
        "        self.encoder = TransformerEncoder(encoder_layer, n_layers)\n",
        "        \n",
        "        self.dropout = nn.Dropout(dropout)\n",
        "        self.scale = torch.sqrt(torch.tensor([hid_dim], device = device, dtype=torch.float32))\n",
        "        \n",
        "    def forward(self, src, pos_emb, src_mask):\n",
        "        '''\n",
        "        INPUT\n",
        "        - src: source language batched data (B, max_len)\n",
        "        - pos_emb: positional embedding (max_len, hid_dim)\n",
        "        - src_mask: padding mask tensor for source sentences (B, max_len)\n",
        "\n",
        "        OUTPUT\n",
        "        What to be returned depends on your implementation of TransSeq2Seq.\n",
        "        Feel free to return outputs you need.\n",
        "        Some examples below,\n",
        "\n",
        "        - encoder output (B, max_len, hid_dim)\n",
        "        '''\n",
        "        batch_size, src_len = src.shape\n",
        "        \n",
        "        src_embed = self.tok_embedding(src) * self.scale  # (B, max_len, hid_dim)\n",
        "        # print(src_embed)\n",
        "        src_input = self.dropout(src_embed + pos_emb)     # (B, max_len, hid_dim)\n",
        "        \n",
        "        enc_output = self.encoder(src_input, src_key_padding_mask=src_mask)\n",
        "\n",
        "        return enc_output"
      ],
      "metadata": {
        "id": "Cvv3bN0qXX1I"
      },
      "execution_count": null,
      "outputs": []
    },
    {
      "cell_type": "code",
      "source": [
        "class TransDecoder(nn.Module):\n",
        "    def __init__(self, out_dim, hid_dim, n_layers, n_heads, ff_dim, dropout, device, max_length = MAX_LENGTH):\n",
        "        super().__init__()\n",
        "        \n",
        "        self.hid_dim = hid_dim\n",
        "        self.max_length = max_length\n",
        "        \n",
        "        self.tok_embedding = nn.Embedding(out_dim, hid_dim)\n",
        "        \n",
        "        decoder_layer = TransformerDecoderLayer(hid_dim, n_heads, ff_dim, dropout, batch_first=True)\n",
        "        self.decoder = TransformerDecoder(decoder_layer, n_layers)\n",
        "        \n",
        "        self.fc_out = nn.Linear(hid_dim, out_dim)\n",
        "        \n",
        "        self.dropout = nn.Dropout(dropout)\n",
        "        \n",
        "        self.scale = torch.sqrt(torch.tensor([hid_dim], device = device, dtype=torch.float32))\n",
        "        \n",
        "    def forward(self, trg, pos_emb, enc_src, trg_mask, trg_sub_mask, src_mask):\n",
        "        '''\n",
        "        INPUT\n",
        "        - trg: target language batched data (B, max_len)\n",
        "        - pos_emb: positional embedding (max_len, hid_dim)\n",
        "        - enc_src: encoder outputs (B, max_len, hid_dim)\n",
        "        - trg_mask: padding mask tensor for target sentences (B, max_len)\n",
        "        - trg_sub_mask: subsequent mask for target sentences (max_len, max_len)\n",
        "        - src_mask: padding mask tensor for source sentences (B, max_len)\n",
        "\n",
        "        OUTPUT\n",
        "        What to be returned depends on your implementation of TransSeq2Seq.\n",
        "        Feel free to return outputs you need.\n",
        "        Some examples below,\n",
        "\n",
        "        - decoder output (B, max_len, out_dim)\n",
        "        '''\n",
        "        batch_size, trg_len = trg.shape\n",
        "\n",
        "        trg_embed = self.tok_embedding(trg) * self.scale   # (B, max_len, hid_dim)\n",
        "        trg_input = self.dropout(trg_embed + pos_emb)     # (B, max_len, hid_dim)\n",
        "        # print(enc_src)\n",
        "        dec_output = self.decoder(tgt=trg_input, memory=enc_src,\n",
        "                                  tgt_mask=trg_sub_mask,\n",
        "                                  tgt_key_padding_mask=trg_mask,\n",
        "                                  memory_key_padding_mask=src_mask)\n",
        "        # dec_output = self.dropout(dec_output)\n",
        "        dec_output = self.fc_out(dec_output)\n",
        "        \n",
        "        return dec_output       # (B, max_len, out_dim)"
      ],
      "metadata": {
        "id": "8mKifSxjIWKk"
      },
      "execution_count": null,
      "outputs": []
    },
    {
      "cell_type": "code",
      "source": [
        "class TransSeq2Seq(nn.Module):\n",
        "    def __init__(self, in_dim, out_dim, hid_dim, ff_dim, n_layers, n_heads, dropout_p, device, max_length=MAX_LENGTH):\n",
        "        super().__init__()\n",
        "        \n",
        "        self.device = device\n",
        "        self.hid_dim = hid_dim\n",
        "        self.max_length = max_length\n",
        "\n",
        "        self.encoder = TransEncoder(in_dim, hid_dim, n_layers[0], n_heads, ff_dim, dropout_p, device)\n",
        "        self.decoder = TransDecoder(out_dim, hid_dim, n_layers[1], n_heads, ff_dim, dropout_p, device)\n",
        "        \n",
        "    def make_src_mask(self, src):\n",
        "        '''\n",
        "        INPUT\n",
        "        - src: batched input sentences (B, max_len)\n",
        "\n",
        "        OUTPUT\n",
        "        - Boolean padding mask tensor (B, max_len)\n",
        "        '''\n",
        "        # src_mask shape (B, max_len) is the argument 'src_key_padding_mask'\n",
        "        # for torch.nn.TransformerEncoder.forward()\n",
        "        # Position with True : Not allowed to attend\n",
        "        # Position with False : will be unchanged\n",
        "        src_padding_mask = (src == dataset.input_lang_pad).to(self.device)  # (B, max_len)\n",
        "        return src_padding_mas\n",
        "\n",
        "    def make_trg_mask(self, trg):\n",
        "        '''\n",
        "        INPUT\n",
        "        - trg: batched target sentences (B, max_len)\n",
        "\n",
        "        OUTPUT\n",
        "        - A tuple of a padding mask tensor and a subsequent mask tensor ((B, max_len), (max_len, max_len))\n",
        "        '''\n",
        "        # Position with True : Not allowed to attend\n",
        "        # Position with False : will be unchanged\n",
        "        trg_padding_mask = (trg == dataset.output_lang_pad).to(self.device)   # (B, max_len)\n",
        "        trg_sub_mask = torch.triu(torch.ones((self.max_length, self.max_length)), diagonal=1).bool().to(self.device)\n",
        "\n",
        "        return trg_padding_mask, trg_sub_mask\n",
        "\n",
        "    def forward(self, src, trg):\n",
        "        '''\n",
        "        INPUT\n",
        "        - src: source language batched data (B, max_len)\n",
        "        - trg: target language batched data (B, max_len)\n",
        "\n",
        "        OUTPUT\n",
        "        - decoder output (B, out_dim, max_len)\n",
        "        \n",
        "        '''\n",
        "        src_mask = self.make_src_mask(src)\n",
        "        trg_mask, trg_sub_mask = self.make_trg_mask(trg)\n",
        "        pos_emb = self.get_pos_emb()\n",
        "        enc_output = self.encoder(src=src, pos_emb=pos_emb, src_mask=src_mask)\n",
        "        dec_output = self.decoder(trg=trg, pos_emb=pos_emb, enc_src=enc_output, \n",
        "                                  trg_mask=trg_mask, trg_sub_mask=trg_sub_mask, \n",
        "                                  src_mask=src_mask)\n",
        "        dec_output = torch.permute(dec_output, (0, 2, 1))\n",
        "  \n",
        "        return dec_output\n",
        "    \n",
        "    \n",
        "    def get_pos_emb(self):\n",
        "        '''\n",
        "        OUTPUT\n",
        "        - positional embedding tensor (max_len, hid_dim)\n",
        "        '''\n",
        "        i = torch.arange(self.hid_dim).to(self.device)\n",
        "        divisor = 1 / torch.pow(10000, 2 * (i // 2) / self.hid_dim)    # (hid_dim,)\n",
        "        pos = torch.arange(self.max_length).view(-1, 1).to(self.device)     # (max_len, 1)\n",
        "        angles = pos * divisor        # (max_len, hid_dim)\n",
        "        pos_embedding = torch.zeros_like(angles).to(self.device)   # (max_len, hid_dim)\n",
        "        pos_embedding[:, 0::2] = torch.sin(angles[:, 0::2]).to(self.device)\n",
        "        pos_embedding[:, 1::2] = torch.cos(angles[:, 1::2]).to(self.device)\n",
        "\n",
        "        return pos_embedding        # (max_len, hid_dim)"
      ],
      "metadata": {
        "id": "L5VFP1-3IXmv"
      },
      "execution_count": null,
      "outputs": []
    },
    {
      "cell_type": "markdown",
      "source": [
        "## Training"
      ],
      "metadata": {
        "id": "KqnvbugEIJ-h"
      }
    },
    {
      "cell_type": "code",
      "source": [
        "in_dim = dataset.input_lang.n_words\n",
        "out_dim = dataset.output_lang.n_words\n",
        "hid_dim = 256\n",
        "ff_dim = 1024\n",
        "n_enc_layers = 4\n",
        "n_dec_layers = 4\n",
        "n_layers = [n_enc_layers, n_dec_layers]\n",
        "n_heads = 8\n",
        "dropout = 0.3\n",
        "\n",
        "learning_rate=1e-4\n",
        "N_EPOCHS = 100\n",
        "valid_every=5\n",
        "best_valid_loss = float('inf')\n",
        "\n",
        "device = torch.device('cuda' if torch.cuda.is_available() else 'cpu')\n",
        "model = TransSeq2Seq(in_dim, out_dim, hid_dim, ff_dim, n_layers, n_heads, dropout, device).to(device)\n",
        "optimizer = torch.optim.Adam(model.parameters(), lr=learning_rate)\n",
        "loss_fn = nn.CrossEntropyLoss(ignore_index = dataset.output_lang_pad)\n",
        "# print(model)"
      ],
      "metadata": {
        "id": "hdNx0Ol5ILbR"
      },
      "execution_count": null,
      "outputs": []
    },
    {
      "cell_type": "code",
      "source": [
        "pe = model.get_pos_emb()\n",
        "pe = pe.to('cpu')\n",
        "plt.pcolormesh(pe.squeeze(1), cmap='RdBu')\n",
        "print(pe.shape)\n",
        "\n",
        "\n",
        "plt.xlim((0, hid_dim))\n",
        "plt.ylabel('Position')\n",
        "plt.colorbar()\n",
        "plt.show()"
      ],
      "metadata": {
        "colab": {
          "base_uri": "https://localhost:8080/",
          "height": 325
        },
        "id": "-X2Tl0yB4EC3",
        "outputId": "3aca0445-84ff-4976-a84f-f96d887bb9ab"
      },
      "execution_count": null,
      "outputs": [
        {
          "output_type": "stream",
          "name": "stdout",
          "text": [
            "torch.Size([10, 256])\n"
          ]
        },
        {
          "output_type": "stream",
          "name": "stderr",
          "text": [
            "/usr/local/lib/python3.7/dist-packages/ipykernel_launcher.py:89: UserWarning: __floordiv__ is deprecated, and its behavior will change in a future version of pytorch. It currently rounds toward 0 (like the 'trunc' function NOT 'floor'). This results in incorrect rounding for negative values. To keep the current behavior, use torch.div(a, b, rounding_mode='trunc'), or for actual floor division, use torch.div(a, b, rounding_mode='floor').\n"
          ]
        },
        {
          "output_type": "display_data",
          "data": {
            "text/plain": [
              "<Figure size 432x288 with 2 Axes>"
            ],
            "image/png": "[encoded data removed]"
          },
          "metadata": {
            "needs_background": "light"
          }
        }
      ]
    },
    {
      "cell_type": "code",
      "source": [
        "# Train your model\n",
        "for epoch in range(N_EPOCHS):\n",
        "    \n",
        "    train_loss = train(model, train_dataloader, optimizer, loss_fn, 1)\n",
        "    \n",
        "    print(f'Epoch: {epoch+1:02}')\n",
        "    print(f'\\tTrain Loss: {train_loss:.3f} | Train PPL: {math.exp(train_loss):7.3f}')\n",
        "    \n",
        "    if epoch%valid_every==0:\n",
        "        print(\"==========================\")\n",
        "        valid_loss = evaluate(model, valid_dataloader, loss_fn)\n",
        "\n",
        "        if valid_loss < best_valid_loss:\n",
        "            best_valid_loss = valid_loss\n",
        "            model.decoder.t=0\n",
        "            torch.save(model.state_dict(), 'transformer-model.pt')\n",
        "\n",
        "        print(f'\\t Val. Loss: {valid_loss:.3f} |  Val. PPL: {math.exp(valid_loss):7.3f}')"
      ],
      "metadata": {
        "id": "aES3_sBTIgnN",
        "colab": {
          "base_uri": "https://localhost:8080/"
        },
        "outputId": "3c7bbcca-d76c-40a1-d5c4-7b19827dc06f"
      },
      "execution_count": null,
      "outputs": [
        {
          "output_type": "stream",
          "name": "stderr",
          "text": [
            "/usr/local/lib/python3.7/dist-packages/ipykernel_launcher.py:89: UserWarning: __floordiv__ is deprecated, and its behavior will change in a future version of pytorch. It currently rounds toward 0 (like the 'trunc' function NOT 'floor'). This results in incorrect rounding for negative values. To keep the current behavior, use torch.div(a, b, rounding_mode='trunc'), or for actual floor division, use torch.div(a, b, rounding_mode='floor').\n"
          ]
        },
        {
          "output_type": "stream",
          "name": "stdout",
          "text": [
            "Epoch: 01\n",
            "\tTrain Loss: 3.999 | Train PPL:  54.538\n",
            "==========================\n",
            "\t Val. Loss: 2.037 |  Val. PPL:   7.667\n",
            "Epoch: 02\n",
            "\tTrain Loss: 1.957 | Train PPL:   7.079\n",
            "Epoch: 03\n",
            "\tTrain Loss: 1.509 | Train PPL:   4.520\n",
            "Epoch: 04\n",
            "\tTrain Loss: 1.263 | Train PPL:   3.534\n",
            "Epoch: 05\n",
            "\tTrain Loss: 1.099 | Train PPL:   3.002\n",
            "Epoch: 06\n",
            "\tTrain Loss: 0.968 | Train PPL:   2.633\n",
            "==========================\n",
            "\t Val. Loss: 0.753 |  Val. PPL:   2.124\n",
            "Epoch: 07\n",
            "\tTrain Loss: 0.857 | Train PPL:   2.355\n",
            "Epoch: 08\n",
            "\tTrain Loss: 0.763 | Train PPL:   2.145\n",
            "Epoch: 09\n",
            "\tTrain Loss: 0.684 | Train PPL:   1.982\n",
            "Epoch: 10\n",
            "\tTrain Loss: 0.619 | Train PPL:   1.858\n",
            "Epoch: 11\n",
            "\tTrain Loss: 0.559 | Train PPL:   1.748\n",
            "==========================\n",
            "\t Val. Loss: 0.460 |  Val. PPL:   1.583\n",
            "Epoch: 12\n",
            "\tTrain Loss: 0.508 | Train PPL:   1.662\n",
            "Epoch: 13\n",
            "\tTrain Loss: 0.463 | Train PPL:   1.589\n",
            "Epoch: 14\n",
            "\tTrain Loss: 0.422 | Train PPL:   1.525\n",
            "Epoch: 15\n",
            "\tTrain Loss: 0.386 | Train PPL:   1.471\n",
            "Epoch: 16\n",
            "\tTrain Loss: 0.355 | Train PPL:   1.426\n",
            "==========================\n",
            "\t Val. Loss: 0.320 |  Val. PPL:   1.377\n",
            "Epoch: 17\n",
            "\tTrain Loss: 0.325 | Train PPL:   1.385\n",
            "Epoch: 18\n",
            "\tTrain Loss: 0.300 | Train PPL:   1.350\n",
            "Epoch: 19\n",
            "\tTrain Loss: 0.276 | Train PPL:   1.318\n",
            "Epoch: 20\n",
            "\tTrain Loss: 0.255 | Train PPL:   1.290\n",
            "Epoch: 21\n",
            "\tTrain Loss: 0.234 | Train PPL:   1.264\n",
            "==========================\n",
            "\t Val. Loss: 0.256 |  Val. PPL:   1.292\n",
            "Epoch: 22\n",
            "\tTrain Loss: 0.216 | Train PPL:   1.241\n",
            "Epoch: 23\n",
            "\tTrain Loss: 0.200 | Train PPL:   1.222\n",
            "Epoch: 24\n",
            "\tTrain Loss: 0.184 | Train PPL:   1.202\n",
            "Epoch: 25\n",
            "\tTrain Loss: 0.169 | Train PPL:   1.184\n",
            "Epoch: 26\n",
            "\tTrain Loss: 0.157 | Train PPL:   1.170\n",
            "==========================\n",
            "\t Val. Loss: 0.215 |  Val. PPL:   1.240\n",
            "Epoch: 27\n",
            "\tTrain Loss: 0.145 | Train PPL:   1.156\n",
            "Epoch: 28\n",
            "\tTrain Loss: 0.133 | Train PPL:   1.142\n",
            "Epoch: 29\n",
            "\tTrain Loss: 0.123 | Train PPL:   1.131\n",
            "Epoch: 30\n",
            "\tTrain Loss: 0.114 | Train PPL:   1.121\n",
            "Epoch: 31\n",
            "\tTrain Loss: 0.105 | Train PPL:   1.111\n",
            "==========================\n",
            "\t Val. Loss: 0.199 |  Val. PPL:   1.220\n",
            "Epoch: 32\n",
            "\tTrain Loss: 0.097 | Train PPL:   1.102\n",
            "Epoch: 33\n",
            "\tTrain Loss: 0.089 | Train PPL:   1.093\n",
            "Epoch: 34\n",
            "\tTrain Loss: 0.081 | Train PPL:   1.085\n",
            "Epoch: 35\n",
            "\tTrain Loss: 0.075 | Train PPL:   1.078\n",
            "Epoch: 36\n",
            "\tTrain Loss: 0.069 | Train PPL:   1.072\n",
            "==========================\n",
            "\t Val. Loss: 0.178 |  Val. PPL:   1.195\n",
            "Epoch: 37\n",
            "\tTrain Loss: 0.063 | Train PPL:   1.066\n",
            "Epoch: 38\n",
            "\tTrain Loss: 0.058 | Train PPL:   1.060\n",
            "Epoch: 39\n",
            "\tTrain Loss: 0.053 | Train PPL:   1.055\n",
            "Epoch: 40\n",
            "\tTrain Loss: 0.048 | Train PPL:   1.049\n",
            "Epoch: 41\n",
            "\tTrain Loss: 0.044 | Train PPL:   1.045\n",
            "==========================\n",
            "\t Val. Loss: 0.182 |  Val. PPL:   1.200\n",
            "Epoch: 42\n",
            "\tTrain Loss: 0.040 | Train PPL:   1.041\n",
            "Epoch: 43\n",
            "\tTrain Loss: 0.037 | Train PPL:   1.038\n",
            "Epoch: 44\n",
            "\tTrain Loss: 0.033 | Train PPL:   1.034\n",
            "Epoch: 45\n",
            "\tTrain Loss: 0.029 | Train PPL:   1.030\n",
            "Epoch: 46\n",
            "\tTrain Loss: 0.027 | Train PPL:   1.027\n",
            "==========================\n",
            "\t Val. Loss: 0.177 |  Val. PPL:   1.193\n",
            "Epoch: 47\n",
            "\tTrain Loss: 0.024 | Train PPL:   1.025\n",
            "Epoch: 48\n",
            "\tTrain Loss: 0.022 | Train PPL:   1.022\n",
            "Epoch: 49\n",
            "\tTrain Loss: 0.019 | Train PPL:   1.020\n",
            "Epoch: 50\n",
            "\tTrain Loss: 0.018 | Train PPL:   1.018\n",
            "Epoch: 51\n",
            "\tTrain Loss: 0.017 | Train PPL:   1.017\n",
            "==========================\n",
            "\t Val. Loss: 0.174 |  Val. PPL:   1.190\n",
            "Epoch: 52\n",
            "\tTrain Loss: 0.015 | Train PPL:   1.015\n",
            "Epoch: 53\n",
            "\tTrain Loss: 0.013 | Train PPL:   1.014\n",
            "Epoch: 54\n",
            "\tTrain Loss: 0.012 | Train PPL:   1.012\n",
            "Epoch: 55\n",
            "\tTrain Loss: 0.011 | Train PPL:   1.011\n",
            "Epoch: 56\n",
            "\tTrain Loss: 0.010 | Train PPL:   1.010\n",
            "==========================\n",
            "\t Val. Loss: 0.182 |  Val. PPL:   1.200\n",
            "Epoch: 57\n",
            "\tTrain Loss: 0.010 | Train PPL:   1.010\n",
            "Epoch: 58\n",
            "\tTrain Loss: 0.009 | Train PPL:   1.009\n",
            "Epoch: 59\n",
            "\tTrain Loss: 0.008 | Train PPL:   1.008\n",
            "Epoch: 60\n",
            "\tTrain Loss: 0.007 | Train PPL:   1.007\n",
            "Epoch: 61\n",
            "\tTrain Loss: 0.007 | Train PPL:   1.007\n",
            "==========================\n",
            "\t Val. Loss: 0.177 |  Val. PPL:   1.194\n",
            "Epoch: 62\n",
            "\tTrain Loss: 0.006 | Train PPL:   1.006\n",
            "Epoch: 63\n",
            "\tTrain Loss: 0.006 | Train PPL:   1.006\n",
            "Epoch: 64\n",
            "\tTrain Loss: 0.005 | Train PPL:   1.005\n",
            "Epoch: 65\n",
            "\tTrain Loss: 0.005 | Train PPL:   1.005\n",
            "Epoch: 66\n",
            "\tTrain Loss: 0.005 | Train PPL:   1.005\n",
            "==========================\n",
            "\t Val. Loss: 0.179 |  Val. PPL:   1.196\n",
            "Epoch: 67\n",
            "\tTrain Loss: 0.004 | Train PPL:   1.004\n",
            "Epoch: 68\n",
            "\tTrain Loss: 0.004 | Train PPL:   1.004\n",
            "Epoch: 69\n",
            "\tTrain Loss: 0.004 | Train PPL:   1.004\n",
            "Epoch: 70\n",
            "\tTrain Loss: 0.003 | Train PPL:   1.003\n",
            "Epoch: 71\n",
            "\tTrain Loss: 0.003 | Train PPL:   1.003\n",
            "==========================\n",
            "\t Val. Loss: 0.180 |  Val. PPL:   1.198\n",
            "Epoch: 72\n",
            "\tTrain Loss: 0.003 | Train PPL:   1.003\n",
            "Epoch: 73\n",
            "\tTrain Loss: 0.003 | Train PPL:   1.003\n",
            "Epoch: 74\n",
            "\tTrain Loss: 0.003 | Train PPL:   1.003\n",
            "Epoch: 75\n",
            "\tTrain Loss: 0.003 | Train PPL:   1.003\n",
            "Epoch: 76\n",
            "\tTrain Loss: 0.002 | Train PPL:   1.002\n",
            "==========================\n",
            "\t Val. Loss: 0.187 |  Val. PPL:   1.206\n",
            "Epoch: 77\n",
            "\tTrain Loss: 0.002 | Train PPL:   1.002\n",
            "Epoch: 78\n",
            "\tTrain Loss: 0.002 | Train PPL:   1.002\n",
            "Epoch: 79\n",
            "\tTrain Loss: 0.002 | Train PPL:   1.002\n",
            "Epoch: 80\n",
            "\tTrain Loss: 0.002 | Train PPL:   1.002\n",
            "Epoch: 81\n",
            "\tTrain Loss: 0.002 | Train PPL:   1.002\n",
            "==========================\n",
            "\t Val. Loss: 0.189 |  Val. PPL:   1.208\n",
            "Epoch: 82\n",
            "\tTrain Loss: 0.002 | Train PPL:   1.002\n",
            "Epoch: 83\n",
            "\tTrain Loss: 0.002 | Train PPL:   1.002\n",
            "Epoch: 84\n",
            "\tTrain Loss: 0.001 | Train PPL:   1.001\n",
            "Epoch: 85\n",
            "\tTrain Loss: 0.001 | Train PPL:   1.001\n",
            "Epoch: 86\n",
            "\tTrain Loss: 0.001 | Train PPL:   1.001\n",
            "==========================\n",
            "\t Val. Loss: 0.191 |  Val. PPL:   1.211\n",
            "Epoch: 87\n",
            "\tTrain Loss: 0.001 | Train PPL:   1.001\n",
            "Epoch: 88\n",
            "\tTrain Loss: 0.001 | Train PPL:   1.001\n",
            "Epoch: 89\n",
            "\tTrain Loss: 0.001 | Train PPL:   1.001\n",
            "Epoch: 90\n",
            "\tTrain Loss: 0.001 | Train PPL:   1.001\n",
            "Epoch: 91\n",
            "\tTrain Loss: 0.001 | Train PPL:   1.001\n",
            "==========================\n",
            "\t Val. Loss: 0.187 |  Val. PPL:   1.205\n",
            "Epoch: 92\n",
            "\tTrain Loss: 0.001 | Train PPL:   1.001\n",
            "Epoch: 93\n",
            "\tTrain Loss: 0.001 | Train PPL:   1.001\n",
            "Epoch: 94\n",
            "\tTrain Loss: 0.001 | Train PPL:   1.001\n",
            "Epoch: 95\n",
            "\tTrain Loss: 0.001 | Train PPL:   1.001\n",
            "Epoch: 96\n",
            "\tTrain Loss: 0.001 | Train PPL:   1.001\n",
            "==========================\n",
            "\t Val. Loss: 0.187 |  Val. PPL:   1.206\n",
            "Epoch: 97\n",
            "\tTrain Loss: 0.001 | Train PPL:   1.001\n",
            "Epoch: 98\n",
            "\tTrain Loss: 0.001 | Train PPL:   1.001\n",
            "Epoch: 99\n",
            "\tTrain Loss: 0.001 | Train PPL:   1.001\n",
            "Epoch: 100\n",
            "\tTrain Loss: 0.001 | Train PPL:   1.001\n"
          ]
        }
      ]
    },
    {
      "cell_type": "code",
      "source": [
        "# Test your model\n",
        "loaded_model = TransSeq2Seq(in_dim, out_dim, hid_dim, ff_dim, n_layers, n_heads, dropout, device).to(device)\n",
        "loaded_model.load_state_dict(torch.load('transformer-model.pt'))\n",
        "\n",
        "test_loss = evaluate(loaded_model, test_dataloader, loss_fn)\n",
        "print(f'\\t Test. Loss: {valid_loss:.3f} |  Test. PPL: {math.exp(valid_loss):7.3f}')"
      ],
      "metadata": {
        "id": "4M6sUc-aJKP3",
        "colab": {
          "base_uri": "https://localhost:8080/"
        },
        "outputId": "ec1d79cb-af18-4b56-ac4c-7a604d24bcb4"
      },
      "execution_count": null,
      "outputs": [
        {
          "output_type": "stream",
          "name": "stderr",
          "text": [
            "/usr/local/lib/python3.7/dist-packages/ipykernel_launcher.py:89: UserWarning: __floordiv__ is deprecated, and its behavior will change in a future version of pytorch. It currently rounds toward 0 (like the 'trunc' function NOT 'floor'). This results in incorrect rounding for negative values. To keep the current behavior, use torch.div(a, b, rounding_mode='trunc'), or for actual floor division, use torch.div(a, b, rounding_mode='floor').\n"
          ]
        },
        {
          "output_type": "stream",
          "name": "stdout",
          "text": [
            "\t Test. Loss: 0.187 |  Test. PPL:   1.206\n"
          ]
        }
      ]
    },
    {
      "cell_type": "code",
      "source": [
        ""
      ],
      "metadata": {
        "id": "gCswrEKrLeiQ"
      },
      "execution_count": null,
      "outputs": []
    }
  ],
  "metadata": {
    "colab": {
      "collapsed_sections": [],
      "name": "hw4_translation.ipynb",
      "provenance": [],
      "include_colab_link": true
    },
    "kernelspec": {
      "display_name": "Python 3",
      "name": "python3"
    },
    "language_info": {
      "name": "python"
    },
    "accelerator": "GPU",
    "gpuClass": "standard"
  },
  "nbformat": 4,
  "nbformat_minor": 0
}
